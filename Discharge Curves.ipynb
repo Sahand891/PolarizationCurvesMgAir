{
 "cells": [
  {
   "cell_type": "code",
   "execution_count": 44,
   "id": "initial_id",
   "metadata": {
    "collapsed": true,
    "ExecuteTime": {
     "end_time": "2024-02-28T19:04:02.053975Z",
     "start_time": "2024-02-28T19:04:02.044905Z"
    }
   },
   "outputs": [],
   "source": [
    "import numpy as np\n",
    "import pandas as pd\n",
    "import matplotlib.pyplot as plt\n",
    "import seaborn as sns\n",
    "import warnings\n",
    "warnings.filterwarnings('ignore')"
   ]
  },
  {
   "cell_type": "code",
   "execution_count": 45,
   "outputs": [],
   "source": [
    "discharge_2_28 = pd.read_fwf('discharge-2:28.txt', delimiter='\\t')"
   ],
   "metadata": {
    "collapsed": false,
    "ExecuteTime": {
     "end_time": "2024-02-28T19:04:02.324485Z",
     "start_time": "2024-02-28T19:04:02.198548Z"
    }
   },
   "id": "496ba31900a8a87d"
  },
  {
   "cell_type": "code",
   "execution_count": 46,
   "outputs": [],
   "source": [
    "discharge_2_28 = discharge_2_28.iloc[123:]"
   ],
   "metadata": {
    "collapsed": false,
    "ExecuteTime": {
     "end_time": "2024-02-28T19:04:02.346791Z",
     "start_time": "2024-02-28T19:04:02.344745Z"
    }
   },
   "id": "ea4bb656a32c9e25"
  },
  {
   "cell_type": "code",
   "execution_count": 47,
   "outputs": [],
   "source": [
    "discharge_2_28 = discharge_2_28['Vernier Format 2'].str.split('\\t', expand=True)"
   ],
   "metadata": {
    "collapsed": false,
    "ExecuteTime": {
     "end_time": "2024-02-28T19:04:02.864445Z",
     "start_time": "2024-02-28T19:04:02.859640Z"
    }
   },
   "id": "d9aac3905b6c84e9"
  },
  {
   "cell_type": "code",
   "execution_count": 48,
   "outputs": [
    {
     "data": {
      "text/plain": "         0      1      2        3\n123      0  1.446  1.243   0.0006\n124      1  1.461  1.258  -0.0003\n125      2  1.451  1.258   0.0000\n126      3  1.451  1.243   0.0000\n127      4  1.451  1.258  -0.0003\n...    ...    ...    ...      ...\n5555  5432  1.266  1.091   0.0000\n5556  5433  1.246  1.081   0.0000\n5557  5434  1.275  1.086   0.0000\n5558  5435  1.261  1.081  -0.0003\n5559  5436  1.270  1.101   0.0000\n\n[5437 rows x 4 columns]",
      "text/html": "<div>\n<style scoped>\n    .dataframe tbody tr th:only-of-type {\n        vertical-align: middle;\n    }\n\n    .dataframe tbody tr th {\n        vertical-align: top;\n    }\n\n    .dataframe thead th {\n        text-align: right;\n    }\n</style>\n<table border=\"1\" class=\"dataframe\">\n  <thead>\n    <tr style=\"text-align: right;\">\n      <th></th>\n      <th>0</th>\n      <th>1</th>\n      <th>2</th>\n      <th>3</th>\n    </tr>\n  </thead>\n  <tbody>\n    <tr>\n      <th>123</th>\n      <td>0</td>\n      <td>1.446</td>\n      <td>1.243</td>\n      <td>0.0006</td>\n    </tr>\n    <tr>\n      <th>124</th>\n      <td>1</td>\n      <td>1.461</td>\n      <td>1.258</td>\n      <td>-0.0003</td>\n    </tr>\n    <tr>\n      <th>125</th>\n      <td>2</td>\n      <td>1.451</td>\n      <td>1.258</td>\n      <td>0.0000</td>\n    </tr>\n    <tr>\n      <th>126</th>\n      <td>3</td>\n      <td>1.451</td>\n      <td>1.243</td>\n      <td>0.0000</td>\n    </tr>\n    <tr>\n      <th>127</th>\n      <td>4</td>\n      <td>1.451</td>\n      <td>1.258</td>\n      <td>-0.0003</td>\n    </tr>\n    <tr>\n      <th>...</th>\n      <td>...</td>\n      <td>...</td>\n      <td>...</td>\n      <td>...</td>\n    </tr>\n    <tr>\n      <th>5555</th>\n      <td>5432</td>\n      <td>1.266</td>\n      <td>1.091</td>\n      <td>0.0000</td>\n    </tr>\n    <tr>\n      <th>5556</th>\n      <td>5433</td>\n      <td>1.246</td>\n      <td>1.081</td>\n      <td>0.0000</td>\n    </tr>\n    <tr>\n      <th>5557</th>\n      <td>5434</td>\n      <td>1.275</td>\n      <td>1.086</td>\n      <td>0.0000</td>\n    </tr>\n    <tr>\n      <th>5558</th>\n      <td>5435</td>\n      <td>1.261</td>\n      <td>1.081</td>\n      <td>-0.0003</td>\n    </tr>\n    <tr>\n      <th>5559</th>\n      <td>5436</td>\n      <td>1.270</td>\n      <td>1.101</td>\n      <td>0.0000</td>\n    </tr>\n  </tbody>\n</table>\n<p>5437 rows × 4 columns</p>\n</div>"
     },
     "execution_count": 48,
     "metadata": {},
     "output_type": "execute_result"
    }
   ],
   "source": [
    "discharge_2_28"
   ],
   "metadata": {
    "collapsed": false,
    "ExecuteTime": {
     "end_time": "2024-02-28T19:04:06.923345Z",
     "start_time": "2024-02-28T19:04:06.913559Z"
    }
   },
   "id": "3f8e27e153b3c2a2"
  }
 ],
 "metadata": {
  "kernelspec": {
   "display_name": "Python 3",
   "language": "python",
   "name": "python3"
  },
  "language_info": {
   "codemirror_mode": {
    "name": "ipython",
    "version": 2
   },
   "file_extension": ".py",
   "mimetype": "text/x-python",
   "name": "python",
   "nbconvert_exporter": "python",
   "pygments_lexer": "ipython2",
   "version": "2.7.6"
  }
 },
 "nbformat": 4,
 "nbformat_minor": 5
}
