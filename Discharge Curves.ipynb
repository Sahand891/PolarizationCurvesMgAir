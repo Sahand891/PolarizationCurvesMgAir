{
 "cells": [
  {
   "cell_type": "code",
   "execution_count": null,
   "id": "initial_id",
   "metadata": {
    "ExecuteTime": {
     "end_time": "2024-02-28T19:04:02.053975Z",
     "start_time": "2024-02-28T19:04:02.044905Z"
    },
    "collapsed": true
   },
   "outputs": [],
   "source": [
    "import numpy as np\n",
    "import pandas as pd\n",
    "import matplotlib.pyplot as plt\n",
    "import seaborn as sns\n",
    "import warnings\n",
    "warnings.filterwarnings('ignore')"
   ]
  },
  {
   "cell_type": "code",
   "execution_count": null,
   "id": "496ba31900a8a87d",
   "metadata": {
    "ExecuteTime": {
     "end_time": "2024-02-28T19:04:02.324485Z",
     "start_time": "2024-02-28T19:04:02.198548Z"
    },
    "collapsed": false
   },
   "outputs": [],
   "source": [
    "discharge_2_28 = pd.read_fwf('discharge-2:28.txt', delimiter='\\t')\n",
    "discharge_2_28 = discharge_2_28.iloc[123:]\n",
    "discharge_2_28 = discharge_2_28['Vernier Format 2'].str.split('\\t', expand=True)\n",
    "discharge_2_28.reset_index(0,drop = True, inplace=True)\n",
    "discharge_2_28 = discharge_2_28.rename(columns= {0:'time',1:'Voltage 1',2:'Voltage 2', 3:'Current 1'})"
   ]
  },
  {
   "cell_type": "code",
   "execution_count": null,
   "id": "f60606f3",
   "metadata": {},
   "outputs": [],
   "source": [
    "discharge_2_28"
   ]
  },
  {
   "cell_type": "code",
   "execution_count": null,
   "id": "123e46fa",
   "metadata": {},
   "outputs": [],
   "source": [
    "sns.lineplot(discharge_2_28, x='time', y='Voltage 1');"
   ]
  }
 ],
 "metadata": {
  "kernelspec": {
   "display_name": "Python 3",
   "language": "python",
   "name": "python3"
  },
  "language_info": {
   "codemirror_mode": {
    "name": "ipython",
    "version": 3
   },
   "file_extension": ".py",
   "mimetype": "text/x-python",
   "name": "python",
   "nbconvert_exporter": "python",
   "pygments_lexer": "ipython3",
   "version": "3.11.7"
  }
 },
 "nbformat": 4,
 "nbformat_minor": 5
}
