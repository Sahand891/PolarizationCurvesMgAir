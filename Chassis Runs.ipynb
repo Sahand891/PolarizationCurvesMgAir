{
 "cells": [
  {
   "cell_type": "code",
   "execution_count": 1,
   "metadata": {},
   "outputs": [],
   "source": [
    "import numpy as np\n",
    "import pandas as pd\n",
    "import matplotlib.pyplot as plt\n",
    "import seaborn as sns"
   ]
  },
  {
   "cell_type": "markdown",
   "metadata": {},
   "source": [
    "# Chassis Run - 3/20/24\n",
    "no electrical box connected, instead battery connected straight to motor\n",
    "8.669 V OCV"
   ]
  },
  {
   "cell_type": "code",
   "execution_count": null,
   "metadata": {},
   "outputs": [],
   "source": [
    "chassis_3_20 = pd.read_fwf('chaa.txt', delimiter='\\t')\n",
    "chassis_3_20 = chassis_3_20.iloc[547:]\n",
    "chassis_3_20 = chassis_3_20['Vernier Format 2'].str.split('\\t', expand=True)\n",
    "chassis_3_20.reset_index(0,drop = True, inplace=True)\n",
    "chassis_3_20 = chassis_3_20.rename(columns= {0:'time',1:'Voltage 1',2:'Voltage 2', 3:'Current 1'})"
   ]
  }
 ],
 "metadata": {
  "kernelspec": {
   "display_name": "Tesla",
   "language": "python",
   "name": "python3"
  },
  "language_info": {
   "codemirror_mode": {
    "name": "ipython",
    "version": 3
   },
   "file_extension": ".py",
   "mimetype": "text/x-python",
   "name": "python",
   "nbconvert_exporter": "python",
   "pygments_lexer": "ipython3",
   "version": "3.11.7"
  }
 },
 "nbformat": 4,
 "nbformat_minor": 2
}
